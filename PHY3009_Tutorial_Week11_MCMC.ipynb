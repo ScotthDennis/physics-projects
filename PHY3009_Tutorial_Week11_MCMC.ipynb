{
 "cells": [
  {
   "cell_type": "markdown",
   "metadata": {},
   "source": [
    "# PHY3009 Tutorial Week 11: Model testing & MCMC fitting #"
   ]
  },
  {
   "cell_type": "markdown",
   "metadata": {},
   "source": [
    "The first part of this week’s tutorial focuses on model-testing and the MCMC method.\n",
    "\n",
    "**Exercise 1:** Using the χ^2 fits from the Week 10 tutorial, calculate the BIC & AIC and determine the best fit model to the data from the Week 10 tutorial. You can do that in the workbook for that week.\n",
    "\n",
    "\n",
    "### MCMC fitting\n",
    "The aim of this tutorial is to write a MCMC method based on the Metropolis-Hastings Algorithm, and then apply it to the data used in the tutorial of week 10 for the three models listed there ($d=\\frac{cz}{H_0}(1+\\frac{z}{2})$, $d=\\frac{2c}{H_0}(1+z-\\sqrt{1+z})$, and d from FlatLambdaCDM())"
   ]
  },
  {
   "cell_type": "code",
   "execution_count": 1,
   "metadata": {},
   "outputs": [],
   "source": [
    "# importing some basic python packages\n",
    "import numpy as np\n",
    "import matplotlib.pyplot as plt\n",
    "import astropy.io.ascii as ascii # to help with reading in data\n",
    "from astropy.cosmology import FlatLambdaCDM   #import for determining the model for a universe \n",
    "                                              #containing both (dark) matter and dark energy\n",
    "\n",
    "%matplotlib inline\n",
    "\n"
   ]
  },
  {
   "cell_type": "markdown",
   "metadata": {},
   "source": [
    "To make your MCMC code more generic (so you can use it for many different problems), you should provide the initial parameters as an array and take advantage of the fact that in Python you can pass a function to another function (you can even get a function to return a function, which can be useful in certain cases, although we won’t need that here). \n",
    "Here is a sample code to show how you can pass a function to another function. In this example, your MCMC function would take the place of the _example_passing_function()_ function.\n"
   ]
  },
  {
   "cell_type": "code",
   "execution_count": 2,
   "metadata": {},
   "outputs": [
    {
     "name": "stdout",
     "output_type": "stream",
     "text": [
      "[ 2.  7. 12. 17. 22. 27. 32. 37. 42. 47.]\n",
      "[  2.   7.  22.  47.  82. 127. 182. 247. 322. 407.]\n"
     ]
    }
   ],
   "source": [
    "def example_passing_function(model_func,x,pars):\n",
    "    model=model_func(x,pars)\n",
    "    return model\n",
    "    \n",
    "def myfunct1(x,pars):\n",
    "    return x*pars[0]+pars[1]\n",
    "\n",
    "def myfunct2(x,pars):\n",
    "    return x**2*pars[0]+pars[1]\n",
    "    \n",
    "    \n",
    "x=np.arange(10)\n",
    "print(example_passing_function(myfunct1,x,(5.,2.)))\n",
    "print(example_passing_function(myfunct2,x,(5.,2.)))"
   ]
  },
  {
   "cell_type": "markdown",
   "metadata": {},
   "source": [
    "**Exercise 2:** Annotate the simple MCMC routine that can be found on Canvas. \n",
    "\n",
    "\n",
    "The MCMC should perform the following steps:\n",
    "\n",
    "1. Calculate the model for the initial parameters\n",
    "\n",
    "2. Calculate the $\\chi^2$ for the initial parameters, call this $\\chi_0^2$\n",
    "\n",
    "3. Make an array to store the MCMC in, this should be a 2d-array with one axis for the different parameters and the other axis the steps of the chain. For instance, for 2 parameters and 100,000 steps you should make a [2,100000] or a [100000,2] array. Make sure that you the function can accept different number of parameters/steps (i.e. don’t hard-code the numbers)\n",
    "\n",
    "4. For each parameter, draw a random number from a normal distribution with a mean of the current value of the parameters and a sigma equal to the stepsize.\n",
    "\n",
    "5. Calculate the model for the new parameter\n",
    "\n",
    "6. Calculate the $\\chi^2$ for the new parameter.\n",
    "\n",
    "7. Calculate $\\Delta\\chi^2\\equiv\\chi^2-\\chi^2_0$\n",
    "\n",
    "8. If $\\Delta\\chi^2\\leq0$: accept the jump. If $\\Delta\\chi^2>0$ you need to \n",
    "\n",
    "    a. Draw a uniform random number between 0 and 1    \n",
    "    b. If this random number is smaller than $e^{-\\Delta\\chi^2/2}$ accept the jump, else reject it.\n",
    "   \n",
    "9. If the jump is accepted: Store the trial parameter values in the chain and set $\\chi_0^2\\chi^2$; If the jump is rejected: store the position at the start of this step (i.e. not your trial position) in the chain and keep the original $\\chi_0^2$.\n",
    "\n",
    "10. Repeat step 4 – 9 for the desired number of steps\n",
    "\n"
   ]
  },
  {
   "cell_type": "code",
   "execution_count": 3,
   "metadata": {},
   "outputs": [],
   "source": [
    "import numpy as np\n",
    "\n",
    "'''\n",
    "mcmc:  function to perform a simple MCMC using the Metropolis-Hastings Algorithm\n",
    "\n",
    "Inputs:\n",
    "func  - the function to be used for fitting. Function should accept 2 inputs\n",
    "        the first is the x-values at which the model is calculated, the second\n",
    "        is a numpy array for the parameters.\n",
    "x     - the x-values at which the model should be calculated (numpy array)\n",
    "y     - the value of the data for each x (numpy array)\n",
    "sig   - the uncertainty on y (numpy array)\n",
    "pars0 - The initial parameters from which to start the MCMC chain (numpy array)\n",
    "stepsize - the stepsize for each of the parameters (numpy array)\n",
    "nstep    - the number of steps in the MCMC chain\n",
    "\n",
    "Outputs:\n",
    "chain    - The MCMC chain as a (Nsteps, Npars) numpy array\n",
    "'''\n",
    "def mcmc(func,x,y,sig,pars0,stepsize,nstep=1e2):\n",
    "    nstep=int(nstep)     #ensures that both axis are integers\n",
    "    npars=pars0.shape[0] #size of one axis based on number of initial parameters\n",
    "    chain=np.zeros((int(nstep),npars)) # 2d array \n",
    "    chi2=np.zeros(int(nstep))\n",
    "\n",
    "    chain[0,:]=pars0.copy() #inserts the initial parametersto the begining of chain \n",
    "    mdl=func(x,*pars0)   #model for chi squared\n",
    "    chi2[0]=np.sum( (y-mdl)**2/sig**2) # chi0^2 equation for the initial parameters\n",
    "    njump=0               #counter for if jump occurs\n",
    "    for i in range(1,nstep):\n",
    "        pars_new=np.random.normal(chain[i-1,:],stepsize)\n",
    "        mdl=func(x,*pars_new)\n",
    "        chi2_new=np.sum( (y-mdl)**2/sig**2)  #chi2 at new location\n",
    "        if (chi2_new > chi2[i-1]):  #if new chi2 is bigger than old continue\n",
    "            p0=np.exp(-(chi2_new-chi2[i-1])/2.) # probability of jumping to new location\n",
    "            p=np.random.uniform(0,1,1)  #random number between 1 and zero\n",
    "            if  p<=p0:  #if p<=p0 all variables are locked in and the jump counter increments\n",
    "                chain[i,:]=pars_new\n",
    "                chi2[i]=chi2_new\n",
    "                njump=njump+1\n",
    "            else:    # else variables remain constant\n",
    "                chain[i,:]=chain[i-1,:]\n",
    "                chi2[i]=chi2[i-1]\n",
    "        else: # if the new chi2 is smaller than old, all variables are locked in and the jump counter increments\n",
    "            chain[i,:]=pars_new\n",
    "            njump=njump+1\n",
    "            chi2[i]=chi2_new\n",
    "    print('Jump fraction: %.3f' %(njump/nstep))\n",
    "    return chain"
   ]
  },
  {
   "cell_type": "markdown",
   "metadata": {},
   "source": [
    "Apply your MCMC routine to the data from last week for each of the three models and determine the uncertainties from the parameters. Run the MCMC routine for at least 100,000 steps, and 5 times per model. Determine the best fit parameters and the uncertainties by combining the 5 chains."
   ]
  },
  {
   "cell_type": "code",
   "execution_count": 4,
   "metadata": {},
   "outputs": [
    {
     "name": "stdout",
     "output_type": "stream",
     "text": [
      "\n"
     ]
    }
   ],
   "source": [
    "def model_mass(z,H0):\n",
    "    d=((2*299792)/H0)*(1+z-(np.sqrt(1+z)))\n",
    "    return d\n",
    "\n",
    "def model_massless(z,H0):\n",
    "    d=((299792*z)/H0)*(1+(z/2))\n",
    "    return d\n",
    "\n",
    "data = ascii.read('SNIafull.dat')\n",
    "z=data['z']\n",
    "idx=np.argsort(z)\n",
    "M=data['mag']\n",
    "d=(10**(((M+19)/5)+1))/(1000000)  #MPc\n",
    "exponetal_uncert=np.sqrt((data['e_mag']**2)+(0.4**2))/5\n",
    "derr=((10**(((M+19)/5)+1))/(1000000))*np.log(10)*exponetal_uncert \n",
    "z=z[idx]\n",
    "d=d[idx]\n",
    "derr=derr[idx]\n",
    "print(\"\")"
   ]
  },
  {
   "cell_type": "code",
   "execution_count": 5,
   "metadata": {},
   "outputs": [
    {
     "name": "stdout",
     "output_type": "stream",
     "text": [
      "Jump fraction: 0.846\n",
      "H0: 74.30367654777181\n"
     ]
    },
    {
     "data": {
      "image/png": "[encoded data removed]",
      "text/plain": [
       "<Figure size 640x480 with 1 Axes>"
      ]
     },
     "metadata": {},
     "output_type": "display_data"
    }
   ],
   "source": [
    "masslesspara=np.array([80])    #hubbles constant inital value \n",
    "masslessstepsize=np.array([1])\n",
    "\n",
    "new_parameter=mcmc(model_massless,z,d,derr,masslesspara,masslessstepsize,nstep=1e4)\n",
    "a=int(new_parameter.shape[0]) #to burn the first 10% of values\n",
    "b=a*0.1\n",
    "\n",
    "\n",
    "plt.hist(new_parameter[int(b):],bins=70,density=True,stacked=True)\n",
    "print(\"H0:\",np.mean(new_parameter))"
   ]
  },
  {
   "cell_type": "code",
   "execution_count": 6,
   "metadata": {
    "scrolled": false
   },
   "outputs": [
    {
     "ename": "ValueError",
     "evalue": "operands could not be broadcast together with shapes (2,) (60,) ",
     "output_type": "error",
     "traceback": [
      "\u001b[1;31m---------------------------------------------------------------------------\u001b[0m",
      "\u001b[1;31mValueError\u001b[0m                                Traceback (most recent call last)",
      "Cell \u001b[1;32mIn[6], line 4\u001b[0m\n\u001b[0;32m      1\u001b[0m massdompara\u001b[38;5;241m=\u001b[39mnp\u001b[38;5;241m.\u001b[39marray([\u001b[38;5;241m67\u001b[39m,\u001b[38;5;241m70\u001b[39m])    \u001b[38;5;66;03m#hubbles constant inital value \u001b[39;00m\n\u001b[0;32m      2\u001b[0m massdomstepsize\u001b[38;5;241m=\u001b[39mnp\u001b[38;5;241m.\u001b[39marray([\u001b[38;5;241m.1\u001b[39m])\n\u001b[1;32m----> 4\u001b[0m new_parameter\u001b[38;5;241m=\u001b[39mmcmc(model_mass,z,d,derr,massdompara,massdomstepsize,nstep\u001b[38;5;241m=\u001b[39m\u001b[38;5;241m1e5\u001b[39m)\n\u001b[0;32m      6\u001b[0m plt\u001b[38;5;241m.\u001b[39mhist(new_parameter,bins\u001b[38;5;241m=\u001b[39m\u001b[38;5;241m70\u001b[39m,density\u001b[38;5;241m=\u001b[39m\u001b[38;5;28;01mTrue\u001b[39;00m,stacked\u001b[38;5;241m=\u001b[39m\u001b[38;5;28;01mTrue\u001b[39;00m)\n\u001b[0;32m      7\u001b[0m \u001b[38;5;28mprint\u001b[39m(\u001b[38;5;124m\"\u001b[39m\u001b[38;5;124mH0:\u001b[39m\u001b[38;5;124m\"\u001b[39m,np\u001b[38;5;241m.\u001b[39mmean(new_parameter))\n",
      "Cell \u001b[1;32mIn[3], line 27\u001b[0m, in \u001b[0;36mmcmc\u001b[1;34m(func, x, y, sig, pars0, stepsize, nstep)\u001b[0m\n\u001b[0;32m     24\u001b[0m chi2\u001b[38;5;241m=\u001b[39mnp\u001b[38;5;241m.\u001b[39mzeros(\u001b[38;5;28mint\u001b[39m(nstep))\n\u001b[0;32m     26\u001b[0m chain[\u001b[38;5;241m0\u001b[39m,:]\u001b[38;5;241m=\u001b[39mpars0\u001b[38;5;241m.\u001b[39mcopy() \u001b[38;5;66;03m#inserts the initial parametersto the begining of chain \u001b[39;00m\n\u001b[1;32m---> 27\u001b[0m mdl\u001b[38;5;241m=\u001b[39mfunc(x,pars0)   \u001b[38;5;66;03m#model for chi squared\u001b[39;00m\n\u001b[0;32m     28\u001b[0m chi2[\u001b[38;5;241m0\u001b[39m]\u001b[38;5;241m=\u001b[39mnp\u001b[38;5;241m.\u001b[39msum( (y\u001b[38;5;241m-\u001b[39mmdl)\u001b[38;5;241m*\u001b[39m\u001b[38;5;241m*\u001b[39m\u001b[38;5;241m2\u001b[39m\u001b[38;5;241m/\u001b[39msig\u001b[38;5;241m*\u001b[39m\u001b[38;5;241m*\u001b[39m\u001b[38;5;241m2\u001b[39m) \u001b[38;5;66;03m# chi0^2 equation for the initial parameters\u001b[39;00m\n\u001b[0;32m     29\u001b[0m njump\u001b[38;5;241m=\u001b[39m\u001b[38;5;241m0\u001b[39m               \u001b[38;5;66;03m#counter for if jump occurs\u001b[39;00m\n",
      "Cell \u001b[1;32mIn[4], line 2\u001b[0m, in \u001b[0;36mmodel_mass\u001b[1;34m(z, H0)\u001b[0m\n\u001b[0;32m      1\u001b[0m \u001b[38;5;28;01mdef\u001b[39;00m \u001b[38;5;21mmodel_mass\u001b[39m(z,H0):\n\u001b[1;32m----> 2\u001b[0m     d\u001b[38;5;241m=\u001b[39m((\u001b[38;5;241m2\u001b[39m\u001b[38;5;241m*\u001b[39m\u001b[38;5;241m299792\u001b[39m)\u001b[38;5;241m/\u001b[39mH0)\u001b[38;5;241m*\u001b[39m(\u001b[38;5;241m1\u001b[39m\u001b[38;5;241m+\u001b[39mz\u001b[38;5;241m-\u001b[39m(np\u001b[38;5;241m.\u001b[39msqrt(\u001b[38;5;241m1\u001b[39m\u001b[38;5;241m+\u001b[39mz)))\n\u001b[0;32m      3\u001b[0m     \u001b[38;5;28;01mreturn\u001b[39;00m d\n",
      "\u001b[1;31mValueError\u001b[0m: operands could not be broadcast together with shapes (2,) (60,) "
     ]
    }
   ],
   "source": [
    "massdompara=np.array([67])    #hubbles constant inital value \n",
    "massdomstepsize=np.array([.1])\n",
    "\n",
    "new_parameter=mcmc(model_mass,z,d,derr,massdompara,massdomstepsize,nstep=1e5)\n",
    "\n",
    "plt.hist(new_parameter,bins=70,density=True,stacked=True)\n",
    "print(\"H0:\",np.mean(new_parameter))"
   ]
  },
  {
   "cell_type": "code",
   "execution_count": 4,
   "metadata": {},
   "outputs": [
    {
     "name": "stdout",
     "output_type": "stream",
     "text": [
      "[-0.93023582 11.0405186   9.20813398  6.83619196  4.89150796  5.03722711]\n"
     ]
    }
   ],
   "source": [
    "chain=[0,4,6,3,3,5]\n",
    "\n",
    "s=np.random.normal(chain,[1,3,5,3,2,1])\n",
    "print(s)"
   ]
  },
  {
   "cell_type": "code",
   "execution_count": null,
   "metadata": {},
   "outputs": [],
   "source": []
  }
 ],
 "metadata": {
  "kernelspec": {
   "display_name": "Python 3 (ipykernel)",
   "language": "python",
   "name": "python3"
  },
  "language_info": {
   "codemirror_mode": {
    "name": "ipython",
    "version": 3
   },
   "file_extension": ".py",
   "mimetype": "text/x-python",
   "name": "python",
   "nbconvert_exporter": "python",
   "pygments_lexer": "ipython3",
   "version": "3.11.5"
  }
 },
 "nbformat": 4,
 "nbformat_minor": 2
}
